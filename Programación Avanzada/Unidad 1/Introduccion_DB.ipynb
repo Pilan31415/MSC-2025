{
  "nbformat": 4,
  "nbformat_minor": 0,
  "metadata": {
    "colab": {
      "provenance": [],
      "toc_visible": true
    },
    "kernelspec": {
      "name": "python3",
      "display_name": "Python 3"
    },
    "language_info": {
      "name": "python"
    }
  },
  "cells": [
    {
      "cell_type": "code",
      "execution_count": null,
      "metadata": {
        "id": "b7-9uAQMZfMr"
      },
      "outputs": [],
      "source": []
    },
    {
      "cell_type": "markdown",
      "source": [
        "Tarea Semana 1 \\\\\n",
        "Dilan Bravo Ramírez \\\\\n",
        "Cálculo de Área y Perímetro de una Circunferencia"
      ],
      "metadata": {
        "id": "mnt6xt26ZiLP"
      }
    },
    {
      "cell_type": "markdown",
      "source": [
        "![Logo](https://www.problemasyecuaciones.com/geometria2D/area/circulo/img0.png)"
      ],
      "metadata": {
        "id": "FfoD67etbCHU"
      }
    },
    {
      "cell_type": "code",
      "source": [
        "from IPython.display import YouTubeVideo\n",
        "YouTubeVideo(\"5z3h53xQVq0?si=31LeBkhmvCTd9ST7\")"
      ],
      "metadata": {
        "colab": {
          "base_uri": "https://localhost:8080/",
          "height": 321
        },
        "id": "fL-Hb1LpcQny",
        "outputId": "5e4e61ba-4ead-428a-e648-de72e4b9b64a"
      },
      "execution_count": 1,
      "outputs": [
        {
          "output_type": "execute_result",
          "data": {
            "text/plain": [
              "<IPython.lib.display.YouTubeVideo at 0x7c9802181250>"
            ],
            "text/html": [
              "\n",
              "        <iframe\n",
              "            width=\"400\"\n",
              "            height=\"300\"\n",
              "            src=\"https://www.youtube.com/embed/5z3h53xQVq0?si=31LeBkhmvCTd9ST7\"\n",
              "            frameborder=\"0\"\n",
              "            allowfullscreen\n",
              "            \n",
              "        ></iframe>\n",
              "        "
            ]
          },
          "metadata": {},
          "execution_count": 1
        }
      ]
    },
    {
      "cell_type": "code",
      "source": [
        "def pedir_radios():\n",
        "    while True:\n",
        "        entrada = input(\"Ingrese radios positivos separados por comas (ejemplo: 3, 5.5, 7): \")\n",
        "        try:\n",
        "            radios = [float(r) for r in entrada.split(\",\")]\n",
        "            if all(r > 0 for r in radios):\n",
        "                return radios\n",
        "            else:\n",
        "                print(\"Por favor, ingrese solo números positivos.\")\n",
        "        except:\n",
        "            print(\"Error: asegúrese de escribir solo números separados por comas.\")\n",
        "\n",
        "# Pedimos los radios al usuario\n",
        "radios = pedir_radios()\n",
        "print(\"Radios ingresados:\", radios)\n"
      ],
      "metadata": {
        "colab": {
          "base_uri": "https://localhost:8080/"
        },
        "id": "PPkE1hBacjQD",
        "outputId": "f7a4b044-6e61-42c3-ee45-068cc82a6e28"
      },
      "execution_count": 4,
      "outputs": [
        {
          "output_type": "stream",
          "name": "stdout",
          "text": [
            "Ingrese radios positivos separados por comas (ejemplo: 3, 5.5, 7): 3, 4, 8\n",
            "Radios ingresados: [3.0, 4.0, 8.0]\n"
          ]
        }
      ]
    },
    {
      "cell_type": "code",
      "source": [
        "import math\n",
        "\n",
        "# Función para calcular área y perímetro\n",
        "def calcular_area_perimetro(radio):\n",
        "    area = math.pi * radio ** 2\n",
        "    perimetro = 2 * math.pi * radio\n",
        "    return area, perimetro\n",
        "\n",
        "# Calculamos y mostramos los resultados\n",
        "for r in radios:\n",
        "    area, perimetro = calcular_area_perimetro(r)\n",
        "    print(f\"Para un radio de {r}: Área = {area:.2f}, Perímetro = {perimetro:.2f}\")\n",
        "\n"
      ],
      "metadata": {
        "colab": {
          "base_uri": "https://localhost:8080/"
        },
        "id": "OvhLMbFgdKLP",
        "outputId": "dea7573e-42a3-410e-977f-d038145c45ab"
      },
      "execution_count": 5,
      "outputs": [
        {
          "output_type": "stream",
          "name": "stdout",
          "text": [
            "Para un radio de 3.0: Área = 28.27, Perímetro = 18.85\n",
            "Para un radio de 4.0: Área = 50.27, Perímetro = 25.13\n",
            "Para un radio de 8.0: Área = 201.06, Perímetro = 50.27\n"
          ]
        }
      ]
    },
    {
      "cell_type": "code",
      "source": [],
      "metadata": {
        "id": "v5esNS2vbwp_"
      },
      "execution_count": null,
      "outputs": []
    },
    {
      "cell_type": "code",
      "source": [],
      "metadata": {
        "id": "x09iuZ8LaHPr"
      },
      "execution_count": null,
      "outputs": []
    }
  ]
}